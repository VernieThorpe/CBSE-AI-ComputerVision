{
 "cells": [
  {
   "cell_type": "markdown",
   "metadata": {},
   "source": [
    "# Image Transformations using OpenCV"
   ]
  },
  {
   "cell_type": "markdown",
   "metadata": {},
   "source": [
    "Note: You can learn about this topic from the official OpenCV documentation [here](https://docs.opencv.org/4.x/da/d6e/tutorial_py_geometric_transformations.html)."
   ]
  },
  {
   "cell_type": "markdown",
   "metadata": {},
   "source": [
    "#### Introduction\n",
    "Image transformation is a coordinate-changing function that transforms (x, y) coordinates in one coordinate system to (x', y') points in another."
   ]
  },
  {
   "cell_type": "markdown",
   "metadata": {},
   "source": [
    "<img src=\"https://i.ibb.co/wcc125Z/Unknown.png\" alt=\"Unknown\" border=\"0\">"
   ]
  },
  {
   "cell_type": "markdown",
   "metadata": {},
   "source": [
    "> For example, if we plot the same point in u-v coordinate with (2, 3) points in x-y coordinate, the same point is represented in multiple ways, as illustrated below:"
   ]
  },
  {
   "cell_type": "markdown",
   "metadata": {},
   "source": [
    "> <img src=\"https://i.ibb.co/dQWTWH7/Unknown-1.png\" alt=\"Unknown-1\" border=\"0\">\n"
   ]
  },
  {
   "cell_type": "markdown",
   "metadata": {},
   "source": [
    "## The Use of Image Transformation\n",
    "The geometric relationship between the comic book and the image on the right is based on the similarity transformation in the image below (rotation, translation and scaling). If we want to train a machine learning model to find this comic book, we'll need to change the form and angle of the image."
   ]
  },
  {
   "cell_type": "markdown",
   "metadata": {},
   "source": [
    "<img src=\"https://i.ibb.co/PN0TzVJ/Unknown-2.png\" alt=\"Unknown-2\" border=\"0\">"
   ]
  },
  {
   "cell_type": "markdown",
   "metadata": {},
   "source": [
    "In the preprocessing phase of images for machine learning, image alteration techniques can be extremely useful."
   ]
  },
  {
   "cell_type": "markdown",
   "metadata": {},
   "source": [
    "> Matrices can be used to represent images. A pixel value at a certain coordinate is represented by each value in a matrix. Matrix multiplication can be used to make image transformations. Mathematicians have devised a set of matrices that can be utilised to perform various transformations."
   ]
  },
  {
   "cell_type": "markdown",
   "metadata": {},
   "source": [
    "## Table of contents:\n",
    "\n",
    "- Image Translation\n",
    "- Image Scaling\n",
    "- Image Shearing\n",
    " - Shearing in the x-axis Direction\n",
    " - Shearing in the y-axis Direction\n",
    "- Image Reflection\n",
    "- Image Rotation\n",
    "- Image Cropping"
   ]
  },
  {
   "cell_type": "markdown",
   "metadata": {},
   "source": [
    "---"
   ]
  }
 ],
 "metadata": {
  "kernelspec": {
   "display_name": "Python 3",
   "language": "python",
   "name": "python3"
  },
  "language_info": {
   "codemirror_mode": {
    "name": "ipython",
    "version": 3
   },
   "file_extension": ".py",
   "mimetype": "text/x-python",
   "name": "python",
   "nbconvert_exporter": "python",
   "pygments_lexer": "ipython3",
   "version": "3.7.6"
  }
 },
 "nbformat": 4,
 "nbformat_minor": 4
}
